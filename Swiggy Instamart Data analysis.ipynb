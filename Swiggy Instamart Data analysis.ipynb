{
 "cells": [
  {
   "cell_type": "code",
   "execution_count": 1,
   "id": "dd303f62",
   "metadata": {},
   "outputs": [],
   "source": [
    "import pandas as pd\n",
    "import numpy as np\n",
    "import matplotlib.pyplot as plt\n",
    "import seaborn as sns"
   ]
  },
  {
   "cell_type": "code",
   "execution_count": 2,
   "id": "19bf2b00",
   "metadata": {},
   "outputs": [],
   "source": [
    "customers = pd.read_csv(\"E:\\Customers.csv\")"
   ]
  },
  {
   "cell_type": "code",
   "execution_count": 3,
   "id": "2242dcc5",
   "metadata": {},
   "outputs": [],
   "source": [
    "orders = pd.read_csv(\"E:\\Orders.csv\")\n",
    "order_details = pd.read_csv(\"E:\\OrderDetails.csv\")"
   ]
  },
  {
   "cell_type": "code",
   "execution_count": 4,
   "id": "1688610c",
   "metadata": {},
   "outputs": [
    {
     "name": "stdout",
     "output_type": "stream",
     "text": [
      "<class 'pandas.core.frame.DataFrame'>\n",
      "RangeIndex: 300 entries, 0 to 299\n",
      "Data columns (total 5 columns):\n",
      " #   Column      Non-Null Count  Dtype \n",
      "---  ------      --------------  ----- \n",
      " 0   CustomerID  300 non-null    int64 \n",
      " 1   Name        300 non-null    object\n",
      " 2   Phone       300 non-null    int64 \n",
      " 3   Address     300 non-null    object\n",
      " 4   City        300 non-null    object\n",
      "dtypes: int64(2), object(3)\n",
      "memory usage: 11.8+ KB\n"
     ]
    }
   ],
   "source": [
    "customers.info()"
   ]
  },
  {
   "cell_type": "code",
   "execution_count": 5,
   "id": "3c0e7374",
   "metadata": {},
   "outputs": [
    {
     "name": "stdout",
     "output_type": "stream",
     "text": [
      "<class 'pandas.core.frame.DataFrame'>\n",
      "RangeIndex: 4000 entries, 0 to 3999\n",
      "Data columns (total 6 columns):\n",
      " #   Column            Non-Null Count  Dtype \n",
      "---  ------            --------------  ----- \n",
      " 0   OrderID           4000 non-null   int64 \n",
      " 1   CustomerID        4000 non-null   int64 \n",
      " 2   OrderDateTime     4000 non-null   object\n",
      " 3   DeliveryDateTime  3924 non-null   object\n",
      " 4   TotalAmount       4000 non-null   int64 \n",
      " 5   DeliveryStatus    4000 non-null   object\n",
      "dtypes: int64(3), object(3)\n",
      "memory usage: 187.6+ KB\n"
     ]
    }
   ],
   "source": [
    "orders.info()"
   ]
  },
  {
   "cell_type": "code",
   "execution_count": 6,
   "id": "e5a92661",
   "metadata": {},
   "outputs": [
    {
     "name": "stdout",
     "output_type": "stream",
     "text": [
      "<class 'pandas.core.frame.DataFrame'>\n",
      "RangeIndex: 10000 entries, 0 to 9999\n",
      "Data columns (total 5 columns):\n",
      " #   Column          Non-Null Count  Dtype \n",
      "---  ------          --------------  ----- \n",
      " 0   OrderDetailsID  10000 non-null  int64 \n",
      " 1   OrderID         10000 non-null  int64 \n",
      " 2   ProductName     10000 non-null  object\n",
      " 3   Quantity        10000 non-null  int64 \n",
      " 4   PricePerUnit    10000 non-null  int64 \n",
      "dtypes: int64(4), object(1)\n",
      "memory usage: 390.8+ KB\n"
     ]
    }
   ],
   "source": [
    "order_details.info()"
   ]
  },
  {
   "cell_type": "code",
   "execution_count": 9,
   "id": "6c39775c",
   "metadata": {},
   "outputs": [
    {
     "data": {
      "text/plain": [
       "CustomerID    0\n",
       "Name          0\n",
       "Phone         0\n",
       "Address       0\n",
       "City          0\n",
       "dtype: int64"
      ]
     },
     "execution_count": 9,
     "metadata": {},
     "output_type": "execute_result"
    }
   ],
   "source": [
    "customers.isnull().sum()"
   ]
  },
  {
   "cell_type": "code",
   "execution_count": 10,
   "id": "de3dd9b6",
   "metadata": {},
   "outputs": [
    {
     "data": {
      "text/plain": [
       "OrderID              0\n",
       "CustomerID           0\n",
       "OrderDateTime        0\n",
       "DeliveryDateTime    76\n",
       "TotalAmount          0\n",
       "DeliveryStatus       0\n",
       "dtype: int64"
      ]
     },
     "execution_count": 10,
     "metadata": {},
     "output_type": "execute_result"
    }
   ],
   "source": [
    "orders.isnull().sum()"
   ]
  },
  {
   "cell_type": "code",
   "execution_count": 11,
   "id": "206f6e6d",
   "metadata": {},
   "outputs": [
    {
     "data": {
      "text/plain": [
       "OrderDetailsID    0\n",
       "OrderID           0\n",
       "ProductName       0\n",
       "Quantity          0\n",
       "PricePerUnit      0\n",
       "dtype: int64"
      ]
     },
     "execution_count": 11,
     "metadata": {},
     "output_type": "execute_result"
    }
   ],
   "source": [
    "order_details.isnull().sum()"
   ]
  },
  {
   "cell_type": "code",
   "execution_count": 12,
   "id": "1eef50aa",
   "metadata": {},
   "outputs": [
    {
     "data": {
      "text/plain": [
       "0"
      ]
     },
     "execution_count": 12,
     "metadata": {},
     "output_type": "execute_result"
    }
   ],
   "source": [
    "customers.duplicated().sum()"
   ]
  },
  {
   "cell_type": "code",
   "execution_count": 13,
   "id": "14229412",
   "metadata": {},
   "outputs": [
    {
     "data": {
      "text/plain": [
       "0"
      ]
     },
     "execution_count": 13,
     "metadata": {},
     "output_type": "execute_result"
    }
   ],
   "source": [
    "orders.duplicated().sum()"
   ]
  },
  {
   "cell_type": "code",
   "execution_count": 14,
   "id": "0e953cb6",
   "metadata": {},
   "outputs": [
    {
     "data": {
      "text/plain": [
       "0"
      ]
     },
     "execution_count": 14,
     "metadata": {},
     "output_type": "execute_result"
    }
   ],
   "source": [
    "order_details.duplicated().sum()"
   ]
  },
  {
   "cell_type": "code",
   "execution_count": 15,
   "id": "4b68146c",
   "metadata": {},
   "outputs": [
    {
     "data": {
      "text/html": [
       "<div>\n",
       "<style scoped>\n",
       "    .dataframe tbody tr th:only-of-type {\n",
       "        vertical-align: middle;\n",
       "    }\n",
       "\n",
       "    .dataframe tbody tr th {\n",
       "        vertical-align: top;\n",
       "    }\n",
       "\n",
       "    .dataframe thead th {\n",
       "        text-align: right;\n",
       "    }\n",
       "</style>\n",
       "<table border=\"1\" class=\"dataframe\">\n",
       "  <thead>\n",
       "    <tr style=\"text-align: right;\">\n",
       "      <th></th>\n",
       "      <th>CustomerID</th>\n",
       "    </tr>\n",
       "    <tr>\n",
       "      <th>City</th>\n",
       "      <th></th>\n",
       "    </tr>\n",
       "  </thead>\n",
       "  <tbody>\n",
       "    <tr>\n",
       "      <th>Ahmedabad</th>\n",
       "      <td>46</td>\n",
       "    </tr>\n",
       "    <tr>\n",
       "      <th>Bangalore</th>\n",
       "      <td>34</td>\n",
       "    </tr>\n",
       "    <tr>\n",
       "      <th>Delhi</th>\n",
       "      <td>37</td>\n",
       "    </tr>\n",
       "    <tr>\n",
       "      <th>Hyderabad</th>\n",
       "      <td>48</td>\n",
       "    </tr>\n",
       "    <tr>\n",
       "      <th>Jaipur</th>\n",
       "      <td>49</td>\n",
       "    </tr>\n",
       "    <tr>\n",
       "      <th>Mumbai</th>\n",
       "      <td>47</td>\n",
       "    </tr>\n",
       "    <tr>\n",
       "      <th>Pune</th>\n",
       "      <td>39</td>\n",
       "    </tr>\n",
       "  </tbody>\n",
       "</table>\n",
       "</div>"
      ],
      "text/plain": [
       "           CustomerID\n",
       "City                 \n",
       "Ahmedabad          46\n",
       "Bangalore          34\n",
       "Delhi              37\n",
       "Hyderabad          48\n",
       "Jaipur             49\n",
       "Mumbai             47\n",
       "Pune               39"
      ]
     },
     "execution_count": 15,
     "metadata": {},
     "output_type": "execute_result"
    }
   ],
   "source": [
    "city_count = customers.groupby(\"City\").agg({\"CustomerID\":\"count\"})\n",
    "city_count"
   ]
  },
  {
   "cell_type": "code",
   "execution_count": 16,
   "id": "cdbc14fa",
   "metadata": {},
   "outputs": [
    {
     "data": {
      "text/html": [
       "<div>\n",
       "<style scoped>\n",
       "    .dataframe tbody tr th:only-of-type {\n",
       "        vertical-align: middle;\n",
       "    }\n",
       "\n",
       "    .dataframe tbody tr th {\n",
       "        vertical-align: top;\n",
       "    }\n",
       "\n",
       "    .dataframe thead th {\n",
       "        text-align: right;\n",
       "    }\n",
       "</style>\n",
       "<table border=\"1\" class=\"dataframe\">\n",
       "  <thead>\n",
       "    <tr style=\"text-align: right;\">\n",
       "      <th></th>\n",
       "      <th>OrderID</th>\n",
       "      <th>CustomerID</th>\n",
       "      <th>OrderDateTime</th>\n",
       "      <th>DeliveryDateTime</th>\n",
       "      <th>TotalAmount</th>\n",
       "      <th>DeliveryStatus</th>\n",
       "      <th>Name</th>\n",
       "      <th>Phone</th>\n",
       "      <th>Address</th>\n",
       "      <th>City</th>\n",
       "    </tr>\n",
       "  </thead>\n",
       "  <tbody>\n",
       "    <tr>\n",
       "      <th>0</th>\n",
       "      <td>1</td>\n",
       "      <td>17</td>\n",
       "      <td>2024-11-17 22:12:56</td>\n",
       "      <td>2024-11-17 22:27:56</td>\n",
       "      <td>113</td>\n",
       "      <td>Delivered</td>\n",
       "      <td>Rohit Pandey</td>\n",
       "      <td>4625735153</td>\n",
       "      <td>Malviya Nagar, Delhi</td>\n",
       "      <td>Delhi</td>\n",
       "    </tr>\n",
       "    <tr>\n",
       "      <th>1</th>\n",
       "      <td>12</td>\n",
       "      <td>17</td>\n",
       "      <td>2024-11-15 03:32:56</td>\n",
       "      <td>2024-11-15 03:42:56</td>\n",
       "      <td>1250</td>\n",
       "      <td>Delivered</td>\n",
       "      <td>Rohit Pandey</td>\n",
       "      <td>4625735153</td>\n",
       "      <td>Malviya Nagar, Delhi</td>\n",
       "      <td>Delhi</td>\n",
       "    </tr>\n",
       "    <tr>\n",
       "      <th>2</th>\n",
       "      <td>60</td>\n",
       "      <td>17</td>\n",
       "      <td>2024-10-08 14:53:56</td>\n",
       "      <td>2024-10-08 15:03:56</td>\n",
       "      <td>524</td>\n",
       "      <td>Delivered</td>\n",
       "      <td>Rohit Pandey</td>\n",
       "      <td>4625735153</td>\n",
       "      <td>Malviya Nagar, Delhi</td>\n",
       "      <td>Delhi</td>\n",
       "    </tr>\n",
       "    <tr>\n",
       "      <th>3</th>\n",
       "      <td>425</td>\n",
       "      <td>17</td>\n",
       "      <td>2024-10-03 16:39:56</td>\n",
       "      <td>2024-10-03 16:51:56</td>\n",
       "      <td>1223</td>\n",
       "      <td>Delivered</td>\n",
       "      <td>Rohit Pandey</td>\n",
       "      <td>4625735153</td>\n",
       "      <td>Malviya Nagar, Delhi</td>\n",
       "      <td>Delhi</td>\n",
       "    </tr>\n",
       "    <tr>\n",
       "      <th>4</th>\n",
       "      <td>479</td>\n",
       "      <td>17</td>\n",
       "      <td>2024-11-07 03:05:56</td>\n",
       "      <td>2024-11-07 03:17:56</td>\n",
       "      <td>274</td>\n",
       "      <td>Delivered</td>\n",
       "      <td>Rohit Pandey</td>\n",
       "      <td>4625735153</td>\n",
       "      <td>Malviya Nagar, Delhi</td>\n",
       "      <td>Delhi</td>\n",
       "    </tr>\n",
       "    <tr>\n",
       "      <th>...</th>\n",
       "      <td>...</td>\n",
       "      <td>...</td>\n",
       "      <td>...</td>\n",
       "      <td>...</td>\n",
       "      <td>...</td>\n",
       "      <td>...</td>\n",
       "      <td>...</td>\n",
       "      <td>...</td>\n",
       "      <td>...</td>\n",
       "      <td>...</td>\n",
       "    </tr>\n",
       "    <tr>\n",
       "      <th>3995</th>\n",
       "      <td>3764</td>\n",
       "      <td>185</td>\n",
       "      <td>2024-10-01 21:58:56</td>\n",
       "      <td>2024-10-01 22:11:56</td>\n",
       "      <td>562</td>\n",
       "      <td>Delivered</td>\n",
       "      <td>Ishani Joshi</td>\n",
       "      <td>3284627506</td>\n",
       "      <td>Koramangala, Hyderabad</td>\n",
       "      <td>Pune</td>\n",
       "    </tr>\n",
       "    <tr>\n",
       "      <th>3996</th>\n",
       "      <td>3779</td>\n",
       "      <td>185</td>\n",
       "      <td>2024-10-04 14:58:56</td>\n",
       "      <td>2024-10-04 15:06:56</td>\n",
       "      <td>1318</td>\n",
       "      <td>Delivered</td>\n",
       "      <td>Ishani Joshi</td>\n",
       "      <td>3284627506</td>\n",
       "      <td>Koramangala, Hyderabad</td>\n",
       "      <td>Pune</td>\n",
       "    </tr>\n",
       "    <tr>\n",
       "      <th>3997</th>\n",
       "      <td>3832</td>\n",
       "      <td>185</td>\n",
       "      <td>2024-11-02 22:54:56</td>\n",
       "      <td>2024-11-02 23:05:56</td>\n",
       "      <td>1389</td>\n",
       "      <td>Delivered</td>\n",
       "      <td>Ishani Joshi</td>\n",
       "      <td>3284627506</td>\n",
       "      <td>Koramangala, Hyderabad</td>\n",
       "      <td>Pune</td>\n",
       "    </tr>\n",
       "    <tr>\n",
       "      <th>3998</th>\n",
       "      <td>3911</td>\n",
       "      <td>185</td>\n",
       "      <td>2024-10-29 10:01:56</td>\n",
       "      <td>2024-10-29 10:14:56</td>\n",
       "      <td>882</td>\n",
       "      <td>Delivered</td>\n",
       "      <td>Ishani Joshi</td>\n",
       "      <td>3284627506</td>\n",
       "      <td>Koramangala, Hyderabad</td>\n",
       "      <td>Pune</td>\n",
       "    </tr>\n",
       "    <tr>\n",
       "      <th>3999</th>\n",
       "      <td>3916</td>\n",
       "      <td>185</td>\n",
       "      <td>2024-10-07 21:19:56</td>\n",
       "      <td>2024-10-07 21:27:56</td>\n",
       "      <td>1418</td>\n",
       "      <td>Delivered</td>\n",
       "      <td>Ishani Joshi</td>\n",
       "      <td>3284627506</td>\n",
       "      <td>Koramangala, Hyderabad</td>\n",
       "      <td>Pune</td>\n",
       "    </tr>\n",
       "  </tbody>\n",
       "</table>\n",
       "<p>4000 rows × 10 columns</p>\n",
       "</div>"
      ],
      "text/plain": [
       "      OrderID  CustomerID        OrderDateTime     DeliveryDateTime  \\\n",
       "0           1          17  2024-11-17 22:12:56  2024-11-17 22:27:56   \n",
       "1          12          17  2024-11-15 03:32:56  2024-11-15 03:42:56   \n",
       "2          60          17  2024-10-08 14:53:56  2024-10-08 15:03:56   \n",
       "3         425          17  2024-10-03 16:39:56  2024-10-03 16:51:56   \n",
       "4         479          17  2024-11-07 03:05:56  2024-11-07 03:17:56   \n",
       "...       ...         ...                  ...                  ...   \n",
       "3995     3764         185  2024-10-01 21:58:56  2024-10-01 22:11:56   \n",
       "3996     3779         185  2024-10-04 14:58:56  2024-10-04 15:06:56   \n",
       "3997     3832         185  2024-11-02 22:54:56  2024-11-02 23:05:56   \n",
       "3998     3911         185  2024-10-29 10:01:56  2024-10-29 10:14:56   \n",
       "3999     3916         185  2024-10-07 21:19:56  2024-10-07 21:27:56   \n",
       "\n",
       "      TotalAmount DeliveryStatus          Name       Phone  \\\n",
       "0             113      Delivered  Rohit Pandey  4625735153   \n",
       "1            1250      Delivered  Rohit Pandey  4625735153   \n",
       "2             524      Delivered  Rohit Pandey  4625735153   \n",
       "3            1223      Delivered  Rohit Pandey  4625735153   \n",
       "4             274      Delivered  Rohit Pandey  4625735153   \n",
       "...           ...            ...           ...         ...   \n",
       "3995          562      Delivered  Ishani Joshi  3284627506   \n",
       "3996         1318      Delivered  Ishani Joshi  3284627506   \n",
       "3997         1389      Delivered  Ishani Joshi  3284627506   \n",
       "3998          882      Delivered  Ishani Joshi  3284627506   \n",
       "3999         1418      Delivered  Ishani Joshi  3284627506   \n",
       "\n",
       "                     Address   City  \n",
       "0       Malviya Nagar, Delhi  Delhi  \n",
       "1       Malviya Nagar, Delhi  Delhi  \n",
       "2       Malviya Nagar, Delhi  Delhi  \n",
       "3       Malviya Nagar, Delhi  Delhi  \n",
       "4       Malviya Nagar, Delhi  Delhi  \n",
       "...                      ...    ...  \n",
       "3995  Koramangala, Hyderabad   Pune  \n",
       "3996  Koramangala, Hyderabad   Pune  \n",
       "3997  Koramangala, Hyderabad   Pune  \n",
       "3998  Koramangala, Hyderabad   Pune  \n",
       "3999  Koramangala, Hyderabad   Pune  \n",
       "\n",
       "[4000 rows x 10 columns]"
      ]
     },
     "execution_count": 16,
     "metadata": {},
     "output_type": "execute_result"
    }
   ],
   "source": [
    "join_orders_customers = pd.merge(left = orders, right = customers, on = \"CustomerID\", how = \"inner\")\n",
    "join_orders_customers"
   ]
  },
  {
   "cell_type": "code",
   "execution_count": 21,
   "id": "15a9d7d6",
   "metadata": {},
   "outputs": [
    {
     "data": {
      "text/html": [
       "<div>\n",
       "<style scoped>\n",
       "    .dataframe tbody tr th:only-of-type {\n",
       "        vertical-align: middle;\n",
       "    }\n",
       "\n",
       "    .dataframe tbody tr th {\n",
       "        vertical-align: top;\n",
       "    }\n",
       "\n",
       "    .dataframe thead th {\n",
       "        text-align: right;\n",
       "    }\n",
       "</style>\n",
       "<table border=\"1\" class=\"dataframe\">\n",
       "  <thead>\n",
       "    <tr style=\"text-align: right;\">\n",
       "      <th></th>\n",
       "      <th></th>\n",
       "      <th>OrderID</th>\n",
       "      <th>TotalAmount</th>\n",
       "    </tr>\n",
       "    <tr>\n",
       "      <th>City</th>\n",
       "      <th>DeliveryStatus</th>\n",
       "      <th></th>\n",
       "      <th></th>\n",
       "    </tr>\n",
       "  </thead>\n",
       "  <tbody>\n",
       "    <tr>\n",
       "      <th rowspan=\"2\" valign=\"top\">Ahmedabad</th>\n",
       "      <th>Cancelled</th>\n",
       "      <td>6</td>\n",
       "      <td>6578</td>\n",
       "    </tr>\n",
       "    <tr>\n",
       "      <th>Delivered</th>\n",
       "      <td>592</td>\n",
       "      <td>475208</td>\n",
       "    </tr>\n",
       "    <tr>\n",
       "      <th rowspan=\"2\" valign=\"top\">Bangalore</th>\n",
       "      <th>Cancelled</th>\n",
       "      <td>9</td>\n",
       "      <td>5960</td>\n",
       "    </tr>\n",
       "    <tr>\n",
       "      <th>Delivered</th>\n",
       "      <td>466</td>\n",
       "      <td>373445</td>\n",
       "    </tr>\n",
       "    <tr>\n",
       "      <th rowspan=\"2\" valign=\"top\">Delhi</th>\n",
       "      <th>Cancelled</th>\n",
       "      <td>15</td>\n",
       "      <td>13225</td>\n",
       "    </tr>\n",
       "    <tr>\n",
       "      <th>Delivered</th>\n",
       "      <td>486</td>\n",
       "      <td>383151</td>\n",
       "    </tr>\n",
       "    <tr>\n",
       "      <th rowspan=\"2\" valign=\"top\">Hyderabad</th>\n",
       "      <th>Cancelled</th>\n",
       "      <td>11</td>\n",
       "      <td>9541</td>\n",
       "    </tr>\n",
       "    <tr>\n",
       "      <th>Delivered</th>\n",
       "      <td>620</td>\n",
       "      <td>512445</td>\n",
       "    </tr>\n",
       "    <tr>\n",
       "      <th rowspan=\"2\" valign=\"top\">Jaipur</th>\n",
       "      <th>Cancelled</th>\n",
       "      <td>16</td>\n",
       "      <td>11799</td>\n",
       "    </tr>\n",
       "    <tr>\n",
       "      <th>Delivered</th>\n",
       "      <td>642</td>\n",
       "      <td>515888</td>\n",
       "    </tr>\n",
       "    <tr>\n",
       "      <th rowspan=\"2\" valign=\"top\">Mumbai</th>\n",
       "      <th>Cancelled</th>\n",
       "      <td>8</td>\n",
       "      <td>7303</td>\n",
       "    </tr>\n",
       "    <tr>\n",
       "      <th>Delivered</th>\n",
       "      <td>618</td>\n",
       "      <td>504781</td>\n",
       "    </tr>\n",
       "    <tr>\n",
       "      <th rowspan=\"2\" valign=\"top\">Pune</th>\n",
       "      <th>Cancelled</th>\n",
       "      <td>11</td>\n",
       "      <td>8898</td>\n",
       "    </tr>\n",
       "    <tr>\n",
       "      <th>Delivered</th>\n",
       "      <td>500</td>\n",
       "      <td>392266</td>\n",
       "    </tr>\n",
       "  </tbody>\n",
       "</table>\n",
       "</div>"
      ],
      "text/plain": [
       "                          OrderID  TotalAmount\n",
       "City      DeliveryStatus                      \n",
       "Ahmedabad Cancelled             6         6578\n",
       "          Delivered           592       475208\n",
       "Bangalore Cancelled             9         5960\n",
       "          Delivered           466       373445\n",
       "Delhi     Cancelled            15        13225\n",
       "          Delivered           486       383151\n",
       "Hyderabad Cancelled            11         9541\n",
       "          Delivered           620       512445\n",
       "Jaipur    Cancelled            16        11799\n",
       "          Delivered           642       515888\n",
       "Mumbai    Cancelled             8         7303\n",
       "          Delivered           618       504781\n",
       "Pune      Cancelled            11         8898\n",
       "          Delivered           500       392266"
      ]
     },
     "execution_count": 21,
     "metadata": {},
     "output_type": "execute_result"
    }
   ],
   "source": [
    "revenue_city = join_orders_customers.groupby([\"City\",\"DeliveryStatus\"]).agg({\"OrderID\":\"count\",\"TotalAmount\":\"sum\"})\n",
    "revenue_city"
   ]
  },
  {
   "cell_type": "code",
   "execution_count": 22,
   "id": "74bb449d",
   "metadata": {},
   "outputs": [
    {
     "data": {
      "text/html": [
       "<div>\n",
       "<style scoped>\n",
       "    .dataframe tbody tr th:only-of-type {\n",
       "        vertical-align: middle;\n",
       "    }\n",
       "\n",
       "    .dataframe tbody tr th {\n",
       "        vertical-align: top;\n",
       "    }\n",
       "\n",
       "    .dataframe thead th {\n",
       "        text-align: right;\n",
       "    }\n",
       "</style>\n",
       "<table border=\"1\" class=\"dataframe\">\n",
       "  <thead>\n",
       "    <tr style=\"text-align: right;\">\n",
       "      <th></th>\n",
       "      <th>TotalAmount</th>\n",
       "    </tr>\n",
       "    <tr>\n",
       "      <th>DeliveryStatus</th>\n",
       "      <th></th>\n",
       "    </tr>\n",
       "  </thead>\n",
       "  <tbody>\n",
       "    <tr>\n",
       "      <th>Cancelled</th>\n",
       "      <td>63304</td>\n",
       "    </tr>\n",
       "    <tr>\n",
       "      <th>Delivered</th>\n",
       "      <td>3157184</td>\n",
       "    </tr>\n",
       "  </tbody>\n",
       "</table>\n",
       "</div>"
      ],
      "text/plain": [
       "                TotalAmount\n",
       "DeliveryStatus             \n",
       "Cancelled             63304\n",
       "Delivered           3157184"
      ]
     },
     "execution_count": 22,
     "metadata": {},
     "output_type": "execute_result"
    }
   ],
   "source": [
    "status = join_orders_customers.groupby(\"DeliveryStatus\").agg({\"TotalAmount\":\"sum\"})\n",
    "status"
   ]
  },
  {
   "cell_type": "code",
   "execution_count": 25,
   "id": "bcd5ca5d",
   "metadata": {},
   "outputs": [
    {
     "data": {
      "text/plain": [
       "<function matplotlib.pyplot.show(close=None, block=None)>"
      ]
     },
     "execution_count": 25,
     "metadata": {},
     "output_type": "execute_result"
    },
    {
     "data": {
      "image/png": "[encoded data removed]",
      "text/plain": [
       "<Figure size 432x288 with 1 Axes>"
      ]
     },
     "metadata": {
      "needs_background": "light"
     },
     "output_type": "display_data"
    }
   ],
   "source": [
    "sns.barplot(x = status.index, y = \"TotalAmount\", data = status)\n",
    "plt.title(\"Sales by Delivery Status\")\n",
    "plt.show"
   ]
  },
  {
   "cell_type": "code",
   "execution_count": 29,
   "id": "3bc30006",
   "metadata": {},
   "outputs": [
    {
     "data": {
      "text/plain": [
       "<function matplotlib.pyplot.show(close=None, block=None)>"
      ]
     },
     "execution_count": 29,
     "metadata": {},
     "output_type": "execute_result"
    },
    {
     "data": {
      "image/png": "[encoded data removed]",
      "text/plain": [
       "<Figure size 432x288 with 1 Axes>"
      ]
     },
     "metadata": {},
     "output_type": "display_data"
    }
   ],
   "source": [
    "plt.pie(status[\"TotalAmount\"], labels = status.index, autopct = \"%1.2f%%\")\n",
    "plt.show"
   ]
  },
  {
   "cell_type": "code",
   "execution_count": 30,
   "id": "d048d341",
   "metadata": {},
   "outputs": [
    {
     "name": "stdout",
     "output_type": "stream",
     "text": [
      "<class 'pandas.core.frame.DataFrame'>\n",
      "RangeIndex: 4000 entries, 0 to 3999\n",
      "Data columns (total 6 columns):\n",
      " #   Column            Non-Null Count  Dtype         \n",
      "---  ------            --------------  -----         \n",
      " 0   OrderID           4000 non-null   int64         \n",
      " 1   CustomerID        4000 non-null   int64         \n",
      " 2   OrderDateTime     4000 non-null   datetime64[ns]\n",
      " 3   DeliveryDateTime  3924 non-null   object        \n",
      " 4   TotalAmount       4000 non-null   int64         \n",
      " 5   DeliveryStatus    4000 non-null   object        \n",
      "dtypes: datetime64[ns](1), int64(3), object(2)\n",
      "memory usage: 187.6+ KB\n"
     ]
    }
   ],
   "source": [
    "# Date time conversion\n",
    "orders[\"OrderDateTime\"] = pd.to_datetime(orders[\"OrderDateTime\"])\n",
    "orders.info()"
   ]
  },
  {
   "cell_type": "code",
   "execution_count": null,
   "id": "ffa56467",
   "metadata": {},
   "outputs": [],
   "source": []
  }
 ],
 "metadata": {
  "kernelspec": {
   "display_name": "Python 3 (ipykernel)",
   "language": "python",
   "name": "python3"
  },
  "language_info": {
   "codemirror_mode": {
    "name": "ipython",
    "version": 3
   },
   "file_extension": ".py",
   "mimetype": "text/x-python",
   "name": "python",
   "nbconvert_exporter": "python",
   "pygments_lexer": "ipython3",
   "version": "3.9.7"
  }
 },
 "nbformat": 4,
 "nbformat_minor": 5
}
